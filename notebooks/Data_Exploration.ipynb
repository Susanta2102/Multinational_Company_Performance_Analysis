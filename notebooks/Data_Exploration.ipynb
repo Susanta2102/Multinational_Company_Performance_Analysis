{
 "cells": [
  {
   "cell_type": "markdown",
   "id": "21803626-8598-4821-bd49-6dfb2116db02",
   "metadata": {},
   "source": [
    "# Dataset Preparation"
   ]
  },
  {
   "cell_type": "code",
   "execution_count": 1,
   "id": "17efa9cd-1948-4b3d-94ba-f292b91a902f",
   "metadata": {},
   "outputs": [
    {
     "name": "stdout",
     "output_type": "stream",
     "text": [
      "<class 'pandas.core.frame.DataFrame'>\n",
      "RangeIndex: 30000 entries, 0 to 29999\n",
      "Data columns (total 12 columns):\n",
      " #   Column            Non-Null Count  Dtype  \n",
      "---  ------            --------------  -----  \n",
      " 0   Transaction ID    30000 non-null  object \n",
      " 1   Country           30000 non-null  object \n",
      " 2   City              30000 non-null  object \n",
      " 3   Product Category  30000 non-null  object \n",
      " 4   Revenue           30000 non-null  float64\n",
      " 5   Units Sold        30000 non-null  int64  \n",
      " 6   Profit Margin     30000 non-null  float64\n",
      " 7   Transaction Date  30000 non-null  object \n",
      " 8   Employee ID       30000 non-null  object \n",
      " 9   Customer Segment  30000 non-null  object \n",
      " 10  Order Priority    30000 non-null  object \n",
      " 11  Sales Channel     30000 non-null  object \n",
      "dtypes: float64(2), int64(1), object(9)\n",
      "memory usage: 2.7+ MB\n",
      "None\n",
      "  Transaction ID         Country        City Product Category  Revenue  \\\n",
      "0        T000001         Belgium     Antwerp           Sports   101.46   \n",
      "1        T000002         Germany   Frankfurt          Apparel   854.67   \n",
      "2        T000003          France       Paris      Electronics   562.43   \n",
      "3        T000004          Norway   Trondheim          Apparel   837.43   \n",
      "4        T000005  United Kingdom  Manchester           Sports   757.20   \n",
      "\n",
      "   Units Sold  Profit Margin Transaction Date Employee ID Customer Segment  \\\n",
      "0          35           0.18       2023-10-25       E8188           Retail   \n",
      "1          59           0.06       2023-02-04       E3625   Small Business   \n",
      "2           6           0.27       2023-03-27       E7914        Corporate   \n",
      "3          56           0.06       2023-09-08       E5592        Corporate   \n",
      "4          81           0.11       2023-01-11       E6070   Small Business   \n",
      "\n",
      "  Order Priority Sales Channel  \n",
      "0            Low       Offline  \n",
      "1            Low        Online  \n",
      "2         Medium        Online  \n",
      "3           High       Offline  \n",
      "4           High       Offline  \n"
     ]
    }
   ],
   "source": [
    "import pandas as pd\n",
    "\n",
    "# Load dataset\n",
    "data_path = \"../data/raw/Multinational_Company_Performance.csv\"\n",
    "df = pd.read_csv(data_path)\n",
    "\n",
    "# Display basic information\n",
    "print(df.info())\n",
    "print(df.head())"
   ]
  },
  {
   "cell_type": "markdown",
   "id": "619e7a62-dc7d-4fb3-b25b-a533a9ef3205",
   "metadata": {},
   "source": [
    "print(df.isnull().sum())"
   ]
  },
  {
   "cell_type": "code",
   "execution_count": 2,
   "id": "f918ee6f-6dc8-4047-b484-7d492df70a19",
   "metadata": {},
   "outputs": [
    {
     "name": "stdout",
     "output_type": "stream",
     "text": [
      "0\n"
     ]
    }
   ],
   "source": [
    "print(df.duplicated().sum())"
   ]
  },
  {
   "cell_type": "markdown",
   "id": "76b3dac7-5165-4faf-96cb-94c5983e411d",
   "metadata": {},
   "source": [
    "# Data Cleaning and Transformation"
   ]
  },
  {
   "cell_type": "code",
   "execution_count": 3,
   "id": "ced5bb74-357f-4524-870c-dfd9c2394103",
   "metadata": {},
   "outputs": [],
   "source": [
    "# Drop rows with missing values\n",
    "df = df.dropna()"
   ]
  },
  {
   "cell_type": "code",
   "execution_count": 4,
   "id": "2da73676-d87e-4db8-85fb-015de11783cb",
   "metadata": {},
   "outputs": [],
   "source": [
    "# Remove duplicates\n",
    "df = df.drop_duplicates()"
   ]
  },
  {
   "cell_type": "code",
   "execution_count": 5,
   "id": "b3419bf1-aaba-42d0-af71-95784026fc4c",
   "metadata": {},
   "outputs": [],
   "source": [
    "df['Transaction Date'] = pd.to_datetime(df['Transaction Date'])"
   ]
  },
  {
   "cell_type": "code",
   "execution_count": 6,
   "id": "76e861eb-8f81-4a96-b201-089ece7d876c",
   "metadata": {},
   "outputs": [],
   "source": [
    "processed_path = \"../data/processed/Cleaned_Multinational_Company_Performance.csv\"\n",
    "df.to_csv(processed_path, index=False)"
   ]
  },
  {
   "cell_type": "code",
   "execution_count": null,
   "id": "adc555c0-c26c-43e5-a180-e186207aa60b",
   "metadata": {},
   "outputs": [],
   "source": []
  }
 ],
 "metadata": {
  "kernelspec": {
   "display_name": "Python 3 (ipykernel)",
   "language": "python",
   "name": "python3"
  },
  "language_info": {
   "codemirror_mode": {
    "name": "ipython",
    "version": 3
   },
   "file_extension": ".py",
   "mimetype": "text/x-python",
   "name": "python",
   "nbconvert_exporter": "python",
   "pygments_lexer": "ipython3",
   "version": "3.12.1"
  }
 },
 "nbformat": 4,
 "nbformat_minor": 5
}
